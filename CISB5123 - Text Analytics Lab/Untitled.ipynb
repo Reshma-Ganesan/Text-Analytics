{
 "cells": [
  {
   "cell_type": "code",
   "execution_count": null,
   "id": "9c7373ba-6e5b-4fb5-a611-8c86f8f73822",
   "metadata": {},
   "outputs": [],
   "source": []
  }
 ],
 "metadata": {
  "kernelspec": {
   "display_name": "Python [conda env:base] *",
   "language": "python",
   "name": "conda-base-py"
  },
  "language_info": {
   "codemirror_mode": {
    "name": "ipython",
    "version": 3
   },
   "file_extension": ".py",
   "mimetype": "text/x-python",
   "name": "python",
   "nbconvert_exporter": "python",
   "pygments_lexer": "ipython3",
   "version": "3.12.7"
  }
 },
 "nbformat": 4,
 "nbformat_minor": 5
}
