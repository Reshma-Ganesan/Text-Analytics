{
 "cells": [
  {
   "cell_type": "markdown",
   "id": "0af52fe0-cbe1-4352-aa88-46af17af7a0e",
   "metadata": {},
   "source": [
    "EXERCISE 1 - Write a Python program that extracts all digits from the following text."
   ]
  },
  {
   "cell_type": "code",
   "execution_count": 1,
   "id": "853ce1d7-8465-49c8-a533-ab8f7ed74208",
   "metadata": {},
   "outputs": [],
   "source": [
    "import re"
   ]
  },
  {
   "cell_type": "code",
   "execution_count": 3,
   "id": "d95d39ae-50f9-4bf2-a4cb-b584a55d84a8",
   "metadata": {},
   "outputs": [
    {
     "name": "stdout",
     "output_type": "stream",
     "text": [
      "Digits found: ['2', '4', '5', '6', '7', '8', '9', '3', '4', '1', '2', '3', '0']\n"
     ]
    }
   ],
   "source": [
    "text1 = \"Order number: 24567, Tracking ID: 8934A12, Quantity: 30\"\n",
    "pattern1 = r'\\d'  \n",
    "matches1 = re.findall(pattern1, text1)\n",
    "print(\"Digits found:\", matches1)"
   ]
  },
  {
   "cell_type": "markdown",
   "id": "dea01195-be88-46e9-8ca4-dd301ea1e4b8",
   "metadata": {},
   "source": [
    "EXERCISE 2 - Extract all non-alphanumeric characters (spaces, punctuation, etc.) from the text"
   ]
  },
  {
   "cell_type": "code",
   "execution_count": 5,
   "id": "f7cb4faf-d960-4c9e-bdd9-766b17f5bdb9",
   "metadata": {},
   "outputs": [
    {
     "name": "stdout",
     "output_type": "stream",
     "text": [
      "Non-alphanumeric characters: ['!', ' ', \"'\", ' ', ' ', ' ', '?', ' ', ' ', ' ', '@', ' ', '.']\n"
     ]
    }
   ],
   "source": [
    "text2 = \"Welcome! How's your day going? Call me @ 3pm.\"\n",
    "pattern2 = r'[^a-zA-Z0-9]'  \n",
    "matches2 = re.findall(pattern2, text2)\n",
    "print(\"Non-alphanumeric characters:\", matches2)"
   ]
  },
  {
   "cell_type": "markdown",
   "id": "c8cf62db-d972-4bb2-91d2-949d1592c6db",
   "metadata": {},
   "source": [
    "EXERCISE 3 - Split the text at commas and periods."
   ]
  },
  {
   "cell_type": "code",
   "execution_count": 7,
   "id": "0c2d85a5-f4c3-49a9-8a29-65978e547855",
   "metadata": {},
   "outputs": [
    {
     "name": "stdout",
     "output_type": "stream",
     "text": [
      "Split text: ['Data Science', ' AI', ' and Machine Learning', ' These fields are growing fast', '']\n"
     ]
    }
   ],
   "source": [
    "text3 = \"Data Science, AI, and Machine Learning. These fields are growing fast.\"\n",
    "pattern3 = r'[,.]'  \n",
    "split_text3 = re.split(pattern3, text3)\n",
    "print(\"Split text:\", split_text3)"
   ]
  },
  {
   "cell_type": "markdown",
   "id": "6bab70bb-00e9-40c6-83a1-fb8e95043138",
   "metadata": {},
   "source": [
    "EXERCISE 4 - Replace email addresses with [HIDDEN]."
   ]
  },
  {
   "cell_type": "code",
   "execution_count": 9,
   "id": "a9a7bc08-079f-4349-ab97-10af051695d6",
   "metadata": {},
   "outputs": [
    {
     "name": "stdout",
     "output_type": "stream",
     "text": [
      "Anonymized text: Contact us at [HIDDEN] or [HIDDEN]\n"
     ]
    }
   ],
   "source": [
    "text4 = \"Contact us at support@example.com or info@company.org\"\n",
    "pattern4 = r'\\b[A-Za-z0-9._%+-]+@[A-Za-z0-9.-]+\\.[A-Za-z]{2,}\\b'  \n",
    "new_text4 = re.sub(pattern4, \"[HIDDEN]\", text4)\n",
    "print(\"Anonymized text:\", new_text4)"
   ]
  },
  {
   "cell_type": "markdown",
   "id": "8efe95a1-29ed-497e-9d04-30b842f7149b",
   "metadata": {},
   "source": [
    "EXERCISE 5 - Extract only the domain types (e.g., com, org, edu) from email addresses."
   ]
  },
  {
   "cell_type": "code",
   "execution_count": 11,
   "id": "f846f491-569a-4a53-a710-0107b077b57f",
   "metadata": {},
   "outputs": [
    {
     "name": "stdout",
     "output_type": "stream",
     "text": [
      "Domain types: ['com', 'edu', 'org']\n"
     ]
    }
   ],
   "source": [
    "text5 = \"Emails: user@gmail.com, admin@university.edu, info@company.org\"\n",
    "pattern5 = r'@[\\w.-]+\\.(\\w+)'  \n",
    "matches5 = re.findall(pattern5, text5)\n",
    "print(\"Domain types:\", matches5)"
   ]
  }
 ],
 "metadata": {
  "kernelspec": {
   "display_name": "Python [conda env:base] *",
   "language": "python",
   "name": "conda-base-py"
  },
  "language_info": {
   "codemirror_mode": {
    "name": "ipython",
    "version": 3
   },
   "file_extension": ".py",
   "mimetype": "text/x-python",
   "name": "python",
   "nbconvert_exporter": "python",
   "pygments_lexer": "ipython3",
   "version": "3.12.7"
  }
 },
 "nbformat": 4,
 "nbformat_minor": 5
}
