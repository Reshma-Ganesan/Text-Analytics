{
 "cells": [
  {
   "cell_type": "markdown",
   "id": "ea4d6ed5-d822-49c5-a46a-6e67e953ed83",
   "metadata": {},
   "source": [
    "Name: Reshma a/p Ganesan (IS01082523)\n",
    "      Najah Zdafirah binti Mohd Zakir (IS01082508)"
   ]
  },
  {
   "cell_type": "code",
   "execution_count": 2,
   "id": "d3d1cf8c-1d3e-48f8-ba48-132aa198fbe1",
   "metadata": {},
   "outputs": [],
   "source": [
    "import pandas as pd\n",
    "import re\n",
    "from nltk.corpus import stopwords\n",
    "from nltk.stem import PorterStemmer\n",
    "import nltk"
   ]
  },
  {
   "cell_type": "code",
   "execution_count": 6,
   "id": "a44eb1a6-01a2-4ba0-8c51-9aedbc3dc94d",
   "metadata": {},
   "outputs": [
    {
     "name": "stderr",
     "output_type": "stream",
     "text": [
      "[nltk_data] Downloading package stopwords to\n",
      "[nltk_data]     C:\\Users\\VICTUS\\AppData\\Roaming\\nltk_data...\n",
      "[nltk_data]   Package stopwords is already up-to-date!\n"
     ]
    }
   ],
   "source": [
    "# Load and inspect dataset\n",
    "df = pd.read_csv('Reviews.csv')\n",
    "df = df[['Score', 'Text']].dropna()\n",
    "\n",
    "# Basic Cleaning\n",
    "nltk.download('stopwords')\n",
    "stop_words = set(stopwords.words('english'))\n",
    "ps = PorterStemmer()\n",
    "\n",
    "def clean_text(text):\n",
    "    text = str(text).lower()\n",
    "    text = re.sub(r'[^a-z\\s]', '', text) # remove special character\n",
    "    text = re.sub(r'<.*?>', '', text) # remove HTML tags\n",
    "    text = re.sub(r'http\\S+|www\\S+|https\\S+', '', text) # remove urls\n",
    "    text = re.sub(r'\\d+', '', text) # remove numbers\n",
    "    tokens = text.split()\n",
    "    tokens = [ps.stem(word) for word in tokens if word not in stop_words]\n",
    "    return ' '.join(tokens)\n",
    "\n",
    "df['cleaned_text'] = df['Text'].apply(clean_text)\n"
   ]
  },
  {
   "cell_type": "code",
   "execution_count": 8,
   "id": "312c6878-6274-4d67-babc-325496270437",
   "metadata": {},
   "outputs": [],
   "source": [
    "# Assign sentiment label\n",
    "def label_sentiment(score):\n",
    "    if score <= 2:\n",
    "        return 'negative'\n",
    "    elif score == 3:\n",
    "        return 'neutral'\n",
    "    else:\n",
    "        return 'positive'\n",
    "\n",
    "df['sentiment'] = df['Score'].apply(label_sentiment)\n"
   ]
  },
  {
   "cell_type": "markdown",
   "id": "6312f299-bbd2-4cdd-8d92-9ec4ca1675ef",
   "metadata": {},
   "source": [
    "Lexicon-Based Approach (VADER)"
   ]
  },
  {
   "cell_type": "code",
   "execution_count": 13,
   "id": "4ecf6377-e519-415a-81dd-db1d4c5bcc50",
   "metadata": {},
   "outputs": [
    {
     "name": "stdout",
     "output_type": "stream",
     "text": [
      "Collecting vaderSentiment\n",
      "  Downloading vaderSentiment-3.3.2-py2.py3-none-any.whl.metadata (572 bytes)\n",
      "Requirement already satisfied: requests in c:\\users\\victus\\anaconda3\\lib\\site-packages (from vaderSentiment) (2.32.3)\n",
      "Requirement already satisfied: charset-normalizer<4,>=2 in c:\\users\\victus\\anaconda3\\lib\\site-packages (from requests->vaderSentiment) (3.3.2)\n",
      "Requirement already satisfied: idna<4,>=2.5 in c:\\users\\victus\\anaconda3\\lib\\site-packages (from requests->vaderSentiment) (3.7)\n",
      "Requirement already satisfied: urllib3<3,>=1.21.1 in c:\\users\\victus\\anaconda3\\lib\\site-packages (from requests->vaderSentiment) (2.2.3)\n",
      "Requirement already satisfied: certifi>=2017.4.17 in c:\\users\\victus\\anaconda3\\lib\\site-packages (from requests->vaderSentiment) (2025.1.31)\n",
      "Downloading vaderSentiment-3.3.2-py2.py3-none-any.whl (125 kB)\n",
      "Installing collected packages: vaderSentiment\n",
      "Successfully installed vaderSentiment-3.3.2\n",
      "Note: you may need to restart the kernel to use updated packages.\n"
     ]
    }
   ],
   "source": [
    "pip install vaderSentiment"
   ]
  },
  {
   "cell_type": "code",
   "execution_count": 15,
   "id": "f1092de1-c384-49e4-bd37-e13d714c8390",
   "metadata": {},
   "outputs": [
    {
     "name": "stdout",
     "output_type": "stream",
     "text": [
      "VADER Classification Report:\n",
      "              precision    recall  f1-score   support\n",
      "\n",
      "    negative       0.59      0.40      0.47     82037\n",
      "     neutral       0.14      0.04      0.06     42640\n",
      "    positive       0.84      0.95      0.89    443777\n",
      "\n",
      "    accuracy                           0.80    568454\n",
      "   macro avg       0.52      0.46      0.48    568454\n",
      "weighted avg       0.75      0.80      0.77    568454\n",
      "\n"
     ]
    }
   ],
   "source": [
    "from vaderSentiment.vaderSentiment import SentimentIntensityAnalyzer\n",
    "from sklearn.metrics import classification_report\n",
    "\n",
    "analyzer = SentimentIntensityAnalyzer()\n",
    "df['vader_compound'] = df['Text'].apply(lambda x: analyzer.polarity_scores(x)['compound'])\n",
    "\n",
    "def vader_label(score):\n",
    "    if score > 0.05:\n",
    "        return 'positive'\n",
    "    elif score < -0.05:\n",
    "        return 'negative'\n",
    "    else:\n",
    "        return 'neutral'\n",
    "\n",
    "df['vader_sentiment'] = df['vader_compound'].apply(vader_label)\n",
    "\n",
    "# Evaluation\n",
    "print(\"VADER Classification Report:\")\n",
    "print(classification_report(df['sentiment'], df['vader_sentiment']))\n"
   ]
  },
  {
   "cell_type": "markdown",
   "id": "bf35bf4b-450f-431d-ad9b-fb5c2e6bc737",
   "metadata": {},
   "source": [
    "Machine Learning Approach (Logistic Regression)"
   ]
  },
  {
   "cell_type": "code",
   "execution_count": 17,
   "id": "55c50d66-80c1-4994-ac05-33c05b5f2541",
   "metadata": {},
   "outputs": [
    {
     "name": "stdout",
     "output_type": "stream",
     "text": [
      "Logistic Regression Classification Report:\n",
      "              precision    recall  f1-score   support\n",
      "\n",
      "    negative       0.73      0.66      0.69     16181\n",
      "     neutral       0.51      0.18      0.27      8485\n",
      "    positive       0.90      0.97      0.93     89025\n",
      "\n",
      "    accuracy                           0.86    113691\n",
      "   macro avg       0.71      0.60      0.63    113691\n",
      "weighted avg       0.84      0.86      0.85    113691\n",
      "\n"
     ]
    }
   ],
   "source": [
    "from sklearn.feature_extraction.text import TfidfVectorizer\n",
    "from sklearn.model_selection import train_test_split\n",
    "from sklearn.linear_model import LogisticRegression\n",
    "\n",
    "# Feature Extraction\n",
    "tfidf = TfidfVectorizer(max_features=5000)\n",
    "X = tfidf.fit_transform(df['cleaned_text'])\n",
    "y = df['sentiment']\n",
    "\n",
    "# Split and Train\n",
    "X_train, X_test, y_train, y_test = train_test_split(X, y, test_size=0.2, random_state=42)\n",
    "model = LogisticRegression(max_iter=1000)\n",
    "model.fit(X_train, y_train)\n",
    "\n",
    "# Predict and Evaluate\n",
    "y_pred = model.predict(X_test)\n",
    "print(\"Logistic Regression Classification Report:\")\n",
    "print(classification_report(y_test, y_pred))"
   ]
  },
  {
   "cell_type": "code",
   "execution_count": 19,
   "id": "c4f8977c-6668-4152-ad92-53db304ced76",
   "metadata": {},
   "outputs": [],
   "source": [
    "df.to_csv('Processed_Reviews.csv', index=False)\n"
   ]
  },
  {
   "cell_type": "markdown",
   "id": "8ccc477a-f608-4c65-a5d1-c912e61472e4",
   "metadata": {},
   "source": [
    "Comparison of VADER and Logistic Regression Models:\n",
    "VADER:\n",
    "\n",
    "Accuracy: 80%\n",
    "\n",
    "Strength: Performs well with positive reviews (high recall).\n",
    "\n",
    "Weakness: Struggles with neutral reviews, low recall for negative sentiment.\n",
    "\n",
    "Logistic Regression:\n",
    "\n",
    "Accuracy: 86%\n",
    "\n",
    "Strength: Balanced performance for negative and positive sentiments, higher accuracy overall.\n",
    "\n",
    "Weakness: Struggles with neutral reviews (low recall).\n",
    "\n",
    "Conclusion:\n",
    "Logistic Regression is the better model with higher accuracy and better overall performance, especially for negative and positive sentiments.\n",
    "\n",
    "VADER excels at identifying positive reviews but struggles with neutral ones."
   ]
  },
  {
   "cell_type": "markdown",
   "id": "39fc7d61-3f70-4c1c-b9e5-a5a0a51f5f94",
   "metadata": {},
   "source": [
    "VADER (Lexicon-Based Approach)\n",
    "✅ Strengths:\n",
    "\n",
    "Easy to use with no need for training data.\n",
    "\n",
    "Handles social media-type text and emoticons well.\n",
    "\n",
    "❌ Weaknesses:\n",
    "\n",
    "Doesn't adapt to new domains or context-specific meanings.\n",
    "\n",
    "May misclassify sarcasm, negation, or domain-specific words.\n",
    "\n",
    "Logistic Regression (ML-Based Approach)\n",
    "✅ Strengths:\n",
    "\n",
    "Learns from the dataset and adapts to context.\n",
    "\n",
    "Can improve accuracy with more data and fine-tuning.\n",
    "\n",
    "❌ Weaknesses:\n",
    "\n",
    "Requires labeled training data and preprocessing.\n",
    "\n",
    "Performance may drop if the dataset is imbalanced or noisy."
   ]
  }
 ],
 "metadata": {
  "kernelspec": {
   "display_name": "Python [conda env:base] *",
   "language": "python",
   "name": "conda-base-py"
  },
  "language_info": {
   "codemirror_mode": {
    "name": "ipython",
    "version": 3
   },
   "file_extension": ".py",
   "mimetype": "text/x-python",
   "name": "python",
   "nbconvert_exporter": "python",
   "pygments_lexer": "ipython3",
   "version": "3.12.7"
  }
 },
 "nbformat": 4,
 "nbformat_minor": 5
}
