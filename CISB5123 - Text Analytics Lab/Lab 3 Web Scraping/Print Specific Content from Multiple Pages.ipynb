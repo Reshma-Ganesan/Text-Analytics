{
 "cells": [
  {
   "cell_type": "markdown",
   "id": "f797ee5b-7e8f-4da0-9d99-bd834291432a",
   "metadata": {},
   "source": [
    "Print Specific Content from Multiple Pages"
   ]
  },
  {
   "cell_type": "code",
   "execution_count": 2,
   "id": "7252fabf-bf01-44c2-8f70-aae3cb218957",
   "metadata": {},
   "outputs": [],
   "source": [
    "import requests\n",
    "from bs4 import BeautifulSoup\n",
    "import csv"
   ]
  },
  {
   "cell_type": "code",
   "execution_count": 4,
   "id": "7a530a30-21ee-4b46-81bd-36fd736b0783",
   "metadata": {},
   "outputs": [],
   "source": [
    "def scrape_page(soup, quotes):\n",
    "    for quote in soup.find_all('div', class_='quote'):\n",
    "        text = quote.find('span', class_=\"text\").text\n",
    "        author = quote.find('small', class_=\"author\").text\n",
    "        tags = ', '.join(tag.text for tag in quote.find_all('a', class_='tag'))\n",
    "        \n",
    "        quotes.append({'Text': text, 'Author': author, 'Tags': tags})"
   ]
  },
  {
   "cell_type": "code",
   "execution_count": 6,
   "id": "a7ba7073-3091-4e9e-a903-5000a2e98d61",
   "metadata": {},
   "outputs": [],
   "source": [
    "base_url = \"https://quotes.toscrape.com\"\n",
    "headers = {\"User-Agent\": \"Mozilla/5.0\"}"
   ]
  },
  {
   "cell_type": "code",
   "execution_count": 8,
   "id": "d6cb32a9-108e-4161-817b-50112bc1d486",
   "metadata": {},
   "outputs": [],
   "source": [
    "quotes = []"
   ]
  },
  {
   "cell_type": "code",
   "execution_count": 10,
   "id": "f4575ffa-1020-4f32-90e1-e55c9dced642",
   "metadata": {},
   "outputs": [],
   "source": [
    "def scrape_all_pages(url):\n",
    "    while url:\n",
    "        response = requests.get(url, headers=headers)\n",
    "        soup = BeautifulSoup(response.text, 'html.parser')\n",
    "        scrape_page(soup, quotes)\n",
    "\n",
    "        next_page = soup.find('li', class_=\"next\")\n",
    "        url = base_url + next_page.find('a')['href'] if next_page else None"
   ]
  },
  {
   "cell_type": "code",
   "execution_count": 12,
   "id": "31568748-e2a8-4860-93d7-39e0badd8cac",
   "metadata": {},
   "outputs": [],
   "source": [
    "scrape_all_pages(base_url)"
   ]
  },
  {
   "cell_type": "code",
   "execution_count": 13,
   "id": "e35a9004-e57b-488d-a115-f7e63553da7b",
   "metadata": {},
   "outputs": [
    {
     "name": "stdout",
     "output_type": "stream",
     "text": [
      "Quotes have been saved to quotes2.csv\n"
     ]
    }
   ],
   "source": [
    "with open('quotes2.csv', 'w', newline=\"\", encoding=\"utf-8\") as csvfile:\n",
    "    writer = csv.DictWriter(csvfile, fieldnames=[\"Text\", \"Author\", \"Tags\"])\n",
    "    writer.writeheader()\n",
    "    writer.writerows(quotes)\n",
    "\n",
    "print(\"Quotes have been saved to quotes2.csv\")"
   ]
  },
  {
   "cell_type": "code",
   "execution_count": null,
   "id": "c313ca1e-7725-404a-b45d-716cd2b386b9",
   "metadata": {},
   "outputs": [],
   "source": []
  }
 ],
 "metadata": {
  "kernelspec": {
   "display_name": "Python [conda env:base] *",
   "language": "python",
   "name": "conda-base-py"
  },
  "language_info": {
   "codemirror_mode": {
    "name": "ipython",
    "version": 3
   },
   "file_extension": ".py",
   "mimetype": "text/x-python",
   "name": "python",
   "nbconvert_exporter": "python",
   "pygments_lexer": "ipython3",
   "version": "3.12.7"
  }
 },
 "nbformat": 4,
 "nbformat_minor": 5
}
