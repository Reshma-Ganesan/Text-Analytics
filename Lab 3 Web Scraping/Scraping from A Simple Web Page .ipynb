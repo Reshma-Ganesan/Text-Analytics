{
 "cells": [
  {
   "cell_type": "markdown",
   "id": "3003e6bb-78d9-418a-88d8-0bcaa7f001f1",
   "metadata": {},
   "source": [
    "Scraping from A Simple Web Page "
   ]
  },
  {
   "cell_type": "code",
   "execution_count": 1,
   "id": "393057cf-c2fb-47cb-84bf-6136ff326211",
   "metadata": {},
   "outputs": [],
   "source": [
    "import requests "
   ]
  },
  {
   "cell_type": "code",
   "execution_count": 3,
   "id": "74cff2fd-a7ed-4b54-9161-c7ce32870de5",
   "metadata": {},
   "outputs": [],
   "source": [
    "page = requests.get(\"https://dataquestio.github.io/web-scraping-pages/simple.html\")  "
   ]
  },
  {
   "cell_type": "code",
   "execution_count": 5,
   "id": "e87f6040-b7d1-4758-bcf6-29fd23a4a149",
   "metadata": {},
   "outputs": [
    {
     "data": {
      "text/plain": [
       "<Response [200]>"
      ]
     },
     "execution_count": 5,
     "metadata": {},
     "output_type": "execute_result"
    }
   ],
   "source": [
    "page "
   ]
  },
  {
   "cell_type": "code",
   "execution_count": 7,
   "id": "4518e597-e71d-4e3f-8def-90dc0559cdf0",
   "metadata": {},
   "outputs": [],
   "source": [
    "from bs4 import BeautifulSoup\n",
    "soup = BeautifulSoup(page.content, 'html.parser') "
   ]
  },
  {
   "cell_type": "code",
   "execution_count": 9,
   "id": "5bbaf976-889b-4620-aff5-c0fa84dc95cf",
   "metadata": {},
   "outputs": [
    {
     "data": {
      "text/plain": [
       "['html',\n",
       " '\\n',\n",
       " <html>\n",
       " <head>\n",
       " <title>A simple example page</title>\n",
       " </head>\n",
       " <body>\n",
       " <p>Here is some simple content for this page.</p>\n",
       " </body>\n",
       " </html>]"
      ]
     },
     "execution_count": 9,
     "metadata": {},
     "output_type": "execute_result"
    }
   ],
   "source": [
    "list(soup.children) "
   ]
  },
  {
   "cell_type": "code",
   "execution_count": 11,
   "id": "ecbf2a6a-cb23-493b-b688-ef69274dba00",
   "metadata": {},
   "outputs": [],
   "source": [
    "html = list(soup.children)[2] "
   ]
  },
  {
   "cell_type": "code",
   "execution_count": 13,
   "id": "b745fa66-c9f5-49df-9938-15887b5c9cab",
   "metadata": {},
   "outputs": [
    {
     "data": {
      "text/plain": [
       "<html>\n",
       "<head>\n",
       "<title>A simple example page</title>\n",
       "</head>\n",
       "<body>\n",
       "<p>Here is some simple content for this page.</p>\n",
       "</body>\n",
       "</html>"
      ]
     },
     "execution_count": 13,
     "metadata": {},
     "output_type": "execute_result"
    }
   ],
   "source": [
    "html "
   ]
  },
  {
   "cell_type": "code",
   "execution_count": 15,
   "id": "cc7125fd-5a70-4d88-a486-4094be34b9f9",
   "metadata": {},
   "outputs": [],
   "source": [
    "content = soup.find('p').get_text() "
   ]
  },
  {
   "cell_type": "code",
   "execution_count": 17,
   "id": "92e3c987-2780-4213-a6e8-964c10d84b76",
   "metadata": {},
   "outputs": [
    {
     "name": "stdout",
     "output_type": "stream",
     "text": [
      "Extracted Content: Here is some simple content for this page.\n"
     ]
    }
   ],
   "source": [
    "print(\"Extracted Content:\", content) "
   ]
  },
  {
   "cell_type": "code",
   "execution_count": 21,
   "id": "5dd3c1c4-266d-4659-b65d-375b65fb9a7a",
   "metadata": {},
   "outputs": [],
   "source": [
    "with open(\"extracted_datal.txt\", \"w\") as file:\n",
    "    file.write(content) \n"
   ]
  },
  {
   "cell_type": "code",
   "execution_count": null,
   "id": "e9f57736-80ad-4162-b2e1-c0524118792a",
   "metadata": {},
   "outputs": [],
   "source": []
  }
 ],
 "metadata": {
  "kernelspec": {
   "display_name": "Python [conda env:base] *",
   "language": "python",
   "name": "conda-base-py"
  },
  "language_info": {
   "codemirror_mode": {
    "name": "ipython",
    "version": 3
   },
   "file_extension": ".py",
   "mimetype": "text/x-python",
   "name": "python",
   "nbconvert_exporter": "python",
   "pygments_lexer": "ipython3",
   "version": "3.12.7"
  }
 },
 "nbformat": 4,
 "nbformat_minor": 5
}
